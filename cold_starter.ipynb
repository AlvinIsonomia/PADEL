{
 "cells": [
  {
   "cell_type": "markdown",
   "id": "366d8c65-657d-4a40-9a0e-aacd48ce1b5a",
   "metadata": {},
   "source": [
    "# 1. Get all tasks"
   ]
  },
  {
   "cell_type": "code",
   "execution_count": 2,
   "id": "3a79e613-6011-48b6-b590-479a5fe79a9c",
   "metadata": {},
   "outputs": [
    {
     "name": "stdout",
     "output_type": "stream",
     "text": [
      "====== Please run data_split.py fisrt! ======\n",
      "['cc', 'cut_ratio', 'coreness', 'hpo_neuro', 'density', 'hpo_metab', 'ppi_bp', 'em_user']\n"
     ]
    }
   ],
   "source": [
    "import os\n",
    "from tqdm import tqdm\n",
    "import pickle\n",
    "\n",
    "\n",
    "data_path = '/home/liuchang/data/SubGNN-datasets'\n",
    "\n",
    "print('======= Please run data_split.py fisrt! =======')\n",
    "\n",
    "task_names = os.listdir(data_path)\n",
    "task_names.remove('tensorboard')\n",
    "print(task_names)\n"
   ]
  },
  {
   "cell_type": "code",
   "execution_count": 56,
   "id": "74e5aa48-be9d-49b1-be46-e9ddf8fcd9ac",
   "metadata": {},
   "outputs": [
    {
     "name": "stdout",
     "output_type": "stream",
     "text": [
      "/home/liuchang/data/SubGNN-datasets/cc/subgraphs_50.pth\n",
      "/home/liuchang/data/SubGNN-datasets/cut_ratio/subgraphs_50.pth\n",
      "/home/liuchang/data/SubGNN-datasets/coreness/subgraphs_50.pth\n",
      "/home/liuchang/data/SubGNN-datasets/hpo_neuro/subgraphs_50.pth\n",
      "/home/liuchang/data/SubGNN-datasets/density/subgraphs_50.pth\n",
      "/home/liuchang/data/SubGNN-datasets/hpo_metab/subgraphs_50.pth\n",
      "/home/liuchang/data/SubGNN-datasets/ppi_bp/subgraphs_50.pth\n",
      "/home/liuchang/data/SubGNN-datasets/em_user/subgraphs_50.pth\n"
     ]
    }
   ],
   "source": [
    "cold_ratio = 0.5\n",
    "if cold_ratio > 1 or cold_ratio <= 0:\n",
    "    raise ValueError(\"cold_ratio must be a number between (0,1]\")\n",
    "\n",
    "for task in task_names:\n",
    "    val_path = os.path.join(data_path, task, \"val_subgraphs.pth\")\n",
    "    test_path = os.path.join(data_path, task, \"test_subgraphs.pth\")\n",
    "    \n",
    "    val_file = open(val_path,'rt')\n",
    "    test_file = open(test_path,'rt')\n",
    "    cold_path = os.path.join(data_path, task,'subgraphs' + '_' +str(round(cold_ratio * 100)) + '.pth')\n",
    "    \n",
    "    with open(cold_path, 'w') as f:\n",
    "        f.write(val_file.read())\n",
    "        f.write(test_file.read())\n",
    "        \n",
    "    label_path = os.path.join(data_path, task, \"label_dict.pkl\")\n",
    "    with open(label_path, 'rb') as f:\n",
    "        label_dict = pickle.load(f)\n",
    "    \n",
    "    label_cold_dict = {k: int(v * cold_ratio) for k, v in label_dict.items()}\n",
    "\n",
    "    for label in label_cold_dict:\n",
    "        # print(label, label_cold_dict[label])\n",
    "        train_path = os.path.join(data_path, task, 'train_label_subgraphs',\n",
    "                                  'train_' + label + '_subgraphs.pth')\n",
    "        train_file = open(train_path, 'rt')\n",
    "        with open(cold_path, 'a') as f:\n",
    "            for i in range(label_cold_dict[label]):\n",
    "                f.writelines(train_file.readline())\n",
    "            \n",
    "        train_file.close()\n",
    "    \n",
    "    \n",
    "    print('save file to', cold_path)\n",
    "    val_file.close()\n",
    "    test_file.close()\n",
    "    \n",
    "    \n",
    "    "
   ]
  },
  {
   "cell_type": "code",
   "execution_count": null,
   "id": "a6ac919e-e4ba-44a5-83a7-a08f9fc1e4b5",
   "metadata": {},
   "outputs": [],
   "source": []
  }
 ],
 "metadata": {
  "kernelspec": {
   "display_name": "Python 3 (ipykernel)",
   "language": "python",
   "name": "python3"
  },
  "language_info": {
   "codemirror_mode": {
    "name": "ipython",
    "version": 3
   },
   "file_extension": ".py",
   "mimetype": "text/x-python",
   "name": "python",
   "nbconvert_exporter": "python",
   "pygments_lexer": "ipython3",
   "version": "3.7.3"
  }
 },
 "nbformat": 4,
 "nbformat_minor": 5
}
